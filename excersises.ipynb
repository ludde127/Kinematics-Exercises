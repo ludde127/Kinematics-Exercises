{
 "cells": [
  {
   "metadata": {},
   "cell_type": "markdown",
   "source": [
    "Kinematics exercise link: https://canvas.education.lu.se/courses/37285/assignments/257751\n",
    "\n"
   ],
   "id": "1a17136addccc6fe"
  },
  {
   "metadata": {
    "ExecuteTime": {
     "end_time": "2025-10-17T08:38:18.301784Z",
     "start_time": "2025-10-17T08:38:18.207644Z"
    }
   },
   "cell_type": "code",
   "source": "import numpy as np",
   "id": "7a9ada0faf9b9f5f",
   "outputs": [],
   "execution_count": 2
  },
  {
   "metadata": {
    "ExecuteTime": {
     "end_time": "2025-10-17T08:45:47.669775Z",
     "start_time": "2025-10-17T08:45:47.665445Z"
    }
   },
   "cell_type": "code",
   "source": [
    "o_0 = np.eye(3)\n",
    "\n",
    "# When showing results split them into the column vectors as e1, e2, e3 were given\n",
    "\n",
    "# Rotate around y by alfa\n",
    "a = 10\n",
    "\n",
    "rotation = np.array([\n",
    "    [np.cos(a), 0, np.sin(a)],\n",
    "    [0, 1, 0],\n",
    "    [-np.sin(a), 0, np.cos(a)]\n",
    "]\n",
    ")\n",
    "\n",
    "print(o_0)\n",
    "print(rotation)\n",
    "print(o_0 @ rotation)"
   ],
   "id": "593b699c700cf689",
   "outputs": [
    {
     "name": "stdout",
     "output_type": "stream",
     "text": [
      "[[1. 0. 0.]\n",
      " [0. 1. 0.]\n",
      " [0. 0. 1.]]\n",
      "[[-0.83907153  0.         -0.54402111]\n",
      " [ 0.          1.          0.        ]\n",
      " [ 0.54402111  0.         -0.83907153]]\n",
      "[[-0.83907153  0.         -0.54402111]\n",
      " [ 0.          1.          0.        ]\n",
      " [ 0.54402111  0.         -0.83907153]]\n"
     ]
    }
   ],
   "execution_count": 7
  },
  {
   "metadata": {
    "ExecuteTime": {
     "end_time": "2025-10-17T08:47:07.354221Z",
     "start_time": "2025-10-17T08:47:07.350267Z"
    }
   },
   "cell_type": "code",
   "source": "print(rotation)  # 1b",
   "id": "8294713f84123e9",
   "outputs": [
    {
     "name": "stdout",
     "output_type": "stream",
     "text": [
      "[[-0.83907153  0.         -0.54402111]\n",
      " [ 0.          1.          0.        ]\n",
      " [ 0.54402111  0.         -0.83907153]]\n"
     ]
    }
   ],
   "execution_count": 8
  },
  {
   "metadata": {
    "ExecuteTime": {
     "end_time": "2025-10-17T08:48:15.402627Z",
     "start_time": "2025-10-17T08:48:15.397608Z"
    }
   },
   "cell_type": "code",
   "source": [
    "# c:\n",
    "\n",
    "a = np.pi/4\n",
    "\n",
    "rotation = np.array([\n",
    "    [np.cos(a), 0, np.sin(a)],\n",
    "    [0, 1, 0],\n",
    "    [-np.sin(a), 0, np.cos(a)]\n",
    "]\n",
    ")\n",
    "\n",
    "#print(o_0)\n",
    "#print(rotation)\n",
    "print(o_0 @ rotation)\n",
    "# alfa pi/4 is 45 degrees, so each transformed axis should have size 1/sqrt(2) which we can see is true.\n"
   ],
   "id": "5398bcfdb9809faa",
   "outputs": [
    {
     "name": "stdout",
     "output_type": "stream",
     "text": [
      "[[ 0.70710678  0.          0.70710678]\n",
      " [ 0.          1.          0.        ]\n",
      " [-0.70710678  0.          0.70710678]]\n"
     ]
    }
   ],
   "execution_count": 10
  },
  {
   "metadata": {
    "ExecuteTime": {
     "end_time": "2025-10-17T08:59:41.170145Z",
     "start_time": "2025-10-17T08:59:41.166003Z"
    }
   },
   "cell_type": "code",
   "source": [
    "# d: This can not be done using a 4x4 matrix, we can instead use a 3x4 matrix which is often called a transformation matrix.\n",
    "\n",
    "# The matrix would look like this:\n",
    "\n",
    "t = np.array([\n",
    "    [1, 0, 0, 0],\n",
    "    [0, 1, 0, 1],\n",
    "    [0, 0, 1, 0],\n",
    "    [0, 0, 0, 1]]\n",
    ")\n",
    "print(t)"
   ],
   "id": "e3a36f8e5e284194",
   "outputs": [
    {
     "name": "stdout",
     "output_type": "stream",
     "text": [
      "[[1 0 0 0]\n",
      " [0 1 0 1]\n",
      " [0 0 1 0]\n",
      " [0 0 0 1]]\n"
     ]
    }
   ],
   "execution_count": 13
  },
  {
   "metadata": {
    "ExecuteTime": {
     "end_time": "2025-10-17T09:00:47.200804Z",
     "start_time": "2025-10-17T09:00:47.198882Z"
    }
   },
   "cell_type": "code",
   "source": [
    "# 2a: find the DH parameters for the coordinate frames\n",
    "\n",
    "# d offset along previous z to the common normal\n",
    "# θ angle about previous z from old to new x\n",
    "# r length of the common normal\n",
    "# a (alfa) angle about common normal from old z to new z\n",
    "\n",
    "# z0 frame, x_0 positive, y_0 negative\n",
    "# z1 frame, x_1 positive, y_1 negative, l1 y space away from z0\n",
    "# z2 frame, x_2 positive, y_2 positive, l2 y space away from z0\n",
    "\n",
    "# Using x as common normal, according to the image theta_1 and theta_2 are both 0.\n",
    "#       d   a       r   theta\n",
    "# z1:   0   0       l1  theta_1\n",
    "# z2:   0   -pi     l2  theta_2"
   ],
   "id": "595fa26f51a3718d",
   "outputs": [],
   "execution_count": null
  },
  {
   "metadata": {
    "ExecuteTime": {
     "end_time": "2025-10-17T09:50:35.516122Z",
     "start_time": "2025-10-17T09:50:35.510086Z"
    }
   },
   "cell_type": "code",
   "source": [
    "# 2b:\n",
    "# T_x_y = > Z_(x-1) @ X_n\n",
    "l1 = 1\n",
    "l2 = 1\n",
    "trans0 = np.array(\n",
    "    [\n",
    "        [1, 0, 0, 0],\n",
    "        [0, 1, 0, 0],\n",
    "        [0, 0, 1, 0],\n",
    "        [0, 0, 0, 1]\n",
    "    ]\n",
    ")\n",
    "\n",
    "trans1 = np.array(\n",
    "    [\n",
    "        [1, 0, 0, l1],\n",
    "        [0, 1, 0, 0],\n",
    "        [0, 0, 1, 0],\n",
    "        [0, 0, 0, 1]\n",
    "    ]\n",
    ")\n",
    "\n",
    "rot_1_0 = np.array(\n",
    "    [\n",
    "        [1, 0, 0, 0],\n",
    "        [0, 1, 0, 0],\n",
    "        [0, 0, 1, 0],\n",
    "        [0, 0, 0, 1]\n",
    "    ]\n",
    ")\n",
    "\n",
    "T_0_to_1 = trans1 @ rot_1_0\n",
    "\n",
    "trans2 = np.array(\n",
    "    [\n",
    "        [1, 0, 0, l2],\n",
    "        [0, 1, 0, 0],\n",
    "        [0, 0, 1, 0],\n",
    "        [0, 0, 0, 1]\n",
    "    ]\n",
    ")\n",
    "\n",
    "a_n = -np.pi\n",
    "# Rotating -pi around x\n",
    "rot_2_1 = np.array(\n",
    "    [\n",
    "        [1, 0, 0, 0],\n",
    "        [0, np.cos(a_n), -np.sin(a_n), 0],\n",
    "        [0, np.sin(a_n), np.cos(a_n), 0],\n",
    "        [0, 0, 0, 1]\n",
    "    ]\n",
    ")\n",
    "T_1_to_2 = trans2 @ rot_2_1\n",
    "T_0_to_2 = T_0_to_1 @ T_1_to_2\n",
    "\n",
    "print(T_0_to_2)"
   ],
   "id": "37355041bc64eaef",
   "outputs": [
    {
     "name": "stdout",
     "output_type": "stream",
     "text": [
      "[[ 1.0000000e+00  0.0000000e+00  0.0000000e+00  2.0000000e+00]\n",
      " [ 0.0000000e+00 -1.0000000e+00  1.2246468e-16  0.0000000e+00]\n",
      " [ 0.0000000e+00 -1.2246468e-16 -1.0000000e+00  0.0000000e+00]\n",
      " [ 0.0000000e+00  0.0000000e+00  0.0000000e+00  1.0000000e+00]]\n"
     ]
    }
   ],
   "execution_count": 14
  },
  {
   "metadata": {
    "ExecuteTime": {
     "end_time": "2025-10-17T09:53:34.263652Z",
     "start_time": "2025-10-17T09:53:34.260146Z"
    }
   },
   "cell_type": "code",
   "source": [
    "# We now must get T_2_to_1, it is logical that T_2_to_1 should be the inverse of T_1_to_2\n",
    "# TODO: Motivate this more\n",
    "T_2_to_1 = np.linalg.inv(T_1_to_2)\n",
    "print(T_2_to_1)  # This can be seen to be correct as the dx now is correct and the rotation matrix is also"
   ],
   "id": "83a6f12c9209f533",
   "outputs": [
    {
     "name": "stdout",
     "output_type": "stream",
     "text": [
      "[[ 1.0000000e+00  0.0000000e+00  0.0000000e+00 -1.0000000e+00]\n",
      " [-0.0000000e+00 -1.0000000e+00 -1.2246468e-16 -0.0000000e+00]\n",
      " [-0.0000000e+00  1.2246468e-16 -1.0000000e+00 -0.0000000e+00]\n",
      " [ 0.0000000e+00  0.0000000e+00  0.0000000e+00  1.0000000e+00]]\n"
     ]
    }
   ],
   "execution_count": 16
  },
  {
   "metadata": {},
   "cell_type": "code",
   "outputs": [],
   "execution_count": null,
   "source": [
    "# 2c\n",
    "\n",
    "# The difference between a homogeneous transformation matrix and a rotation matrix is that a rotation matrix only rotates the frame but does not displace it linearly which a transformation matrix can do."
   ],
   "id": "8826d6c56d8434d6"
  },
  {
   "metadata": {
    "ExecuteTime": {
     "end_time": "2025-10-17T17:54:10.989460Z",
     "start_time": "2025-10-17T17:54:10.422029Z"
    }
   },
   "cell_type": "code",
   "source": [
    "from sympy import Matrix, Symbol, cos, sin, print_latex, pi\n",
    "# 3\n",
    "\n",
    "# 3a:\n",
    "\n",
    "l = Symbol(\"l\") # All 3 links have this length\n",
    "# We start with finding all the transform matrices\n",
    "\n",
    "T1 = Matrix([\n",
    "    [1, 0, l ],\n",
    "    [0, 1, 0 ],\n",
    "    [0, 0, 1 ],\n",
    "])\n",
    "T3 = T2 = T1  # All have the same link lengths\n",
    "\n",
    "# I will see the first joint as rotating around z and the rest around x\n",
    "theta1, theta2, theta3 = Symbol(\"t_1\"), Symbol(\"t_2\"), Symbol(\"t_3\")\n",
    "rot1 = Matrix([\n",
    "    [cos(theta1), -sin(theta1), 0],\n",
    "    [sin(theta1), cos(theta1), 0],\n",
    "    [0, 0, 1],\n",
    "])\n",
    "\n",
    "rot2 = Matrix([\n",
    "    [cos(theta2), -sin(theta2), 0],\n",
    "    [sin(theta2), cos(theta2), 0],\n",
    "    [0, 0, 1],\n",
    "])\n",
    "\n",
    "rot3 = Matrix([\n",
    "    [cos(theta3), -sin(theta3), 0],\n",
    "    [sin(theta3), cos(theta3), 0],\n",
    "    [0, 0, 1],\n",
    "])\n",
    "T3_0_to_2 = Matrix((((Matrix(np.eye(3)) @ rot1 @ T1) @ (rot2 @ T2)) @ (rot3 @ T3)))\n",
    "#print_latex(T3_0_to_2)\n",
    "T3_0_to_2.simplify()  # The function from angle to position for x is given from column 3 row 1 in the matrix, and for y in col 3 row 2.\n",
    "theta_to_x = T3_0_to_2[2]\n",
    "theta_to_y = T3_0_to_2[5]\n",
    "T3_0_to_2"
   ],
   "id": "7eaaa42201b0d7bf",
   "outputs": [
    {
     "name": "stdout",
     "output_type": "stream",
     "text": [
      "1.0*l*(cos(t_1) + cos(t_1 + t_2) + cos(t_1 + t_2 + t_3))\n",
      "1.0*l*(sin(t_1) + sin(t_1 + t_2) + sin(t_1 + t_2 + t_3))\n"
     ]
    },
    {
     "data": {
      "text/plain": [
       "Matrix([\n",
       "[1.0*cos(t_1 + t_2 + t_3), -1.0*sin(t_1 + t_2 + t_3), 1.0*l*(cos(t_1) + cos(t_1 + t_2) + cos(t_1 + t_2 + t_3))],\n",
       "[1.0*sin(t_1 + t_2 + t_3),  1.0*cos(t_1 + t_2 + t_3), 1.0*l*(sin(t_1) + sin(t_1 + t_2) + sin(t_1 + t_2 + t_3))],\n",
       "[                       0,                         0,                                                      1.0]])"
      ],
      "text/latex": "$\\displaystyle \\left[\\begin{matrix}1.0 \\cos{\\left(t_{1} + t_{2} + t_{3} \\right)} & - 1.0 \\sin{\\left(t_{1} + t_{2} + t_{3} \\right)} & 1.0 l \\left(\\cos{\\left(t_{1} \\right)} + \\cos{\\left(t_{1} + t_{2} \\right)} + \\cos{\\left(t_{1} + t_{2} + t_{3} \\right)}\\right)\\\\1.0 \\sin{\\left(t_{1} + t_{2} + t_{3} \\right)} & 1.0 \\cos{\\left(t_{1} + t_{2} + t_{3} \\right)} & 1.0 l \\left(\\sin{\\left(t_{1} \\right)} + \\sin{\\left(t_{1} + t_{2} \\right)} + \\sin{\\left(t_{1} + t_{2} + t_{3} \\right)}\\right)\\\\0 & 0 & 1.0\\end{matrix}\\right]$"
     },
     "execution_count": 65,
     "metadata": {},
     "output_type": "execute_result"
    }
   ],
   "execution_count": 65
  },
  {
   "metadata": {
    "ExecuteTime": {
     "end_time": "2025-10-17T17:28:40.159609Z",
     "start_time": "2025-10-17T17:28:40.153389Z"
    }
   },
   "cell_type": "code",
   "source": [
    "# 3b.\n",
    "\"\"\"\n",
    "To check your solution, compute the forward kinematics for the following joint\n",
    "configurations (θ1,θ2,θ3): (0, 0, 0),(0, π/4, π/4). Are the resulting homogeneous\n",
    "transformation matrices in agreement with what you would expect? Draw the\n",
    "robot configuration in the respective case and mark the end-effector / tool frame.\n",
    "\"\"\"\n",
    "T3_0_to_2.subs({theta1: 0, theta2: 0, theta3: 0, l: 2})"
   ],
   "id": "7d2898eb68dd4308",
   "outputs": [
    {
     "data": {
      "text/plain": [
       "Matrix([\n",
       "[1.0,   0, 6.0],\n",
       "[  0, 1.0,   0],\n",
       "[  0,   0, 1.0]])"
      ],
      "text/latex": "$\\displaystyle \\left[\\begin{matrix}1.0 & 0 & 6.0\\\\0 & 1.0 & 0\\\\0 & 0 & 1.0\\end{matrix}\\right]$"
     },
     "execution_count": 58,
     "metadata": {},
     "output_type": "execute_result"
    }
   ],
   "execution_count": 58
  },
  {
   "metadata": {
    "ExecuteTime": {
     "end_time": "2025-10-17T17:28:49.466560Z",
     "start_time": "2025-10-17T17:28:49.455449Z"
    }
   },
   "cell_type": "code",
   "source": "T3_0_to_2.subs({theta1: 0, theta2: pi/4, theta3: pi/4, l: 2})",
   "id": "70de5bcf3be0a697",
   "outputs": [
    {
     "data": {
      "text/plain": [
       "Matrix([\n",
       "[  0, -1.0, 1.0*sqrt(2) + 2.0],\n",
       "[1.0,    0, 1.0*sqrt(2) + 2.0],\n",
       "[  0,    0,               1.0]])"
      ],
      "text/latex": "$\\displaystyle \\left[\\begin{matrix}0 & -1.0 & 1.0 \\sqrt{2} + 2.0\\\\1.0 & 0 & 1.0 \\sqrt{2} + 2.0\\\\0 & 0 & 1.0\\end{matrix}\\right]$"
     },
     "execution_count": 59,
     "metadata": {},
     "output_type": "execute_result"
    }
   ],
   "execution_count": 59
  },
  {
   "metadata": {
    "ExecuteTime": {
     "end_time": "2025-10-17T17:59:47.465500Z",
     "start_time": "2025-10-17T17:59:47.462087Z"
    }
   },
   "cell_type": "code",
   "source": [
    "# 3c: TODO verify if true\n",
    "# As we have three joints in a 2D situation all reachable points have an infinite amount of possible joint value combinations.\n",
    "\n",
    "# It is also possible to find a close form solution for the inverse kinematics problem here, it is (somewhat) simply required to invert the theta to x and theta to y functions."
   ],
   "id": "1e988eff162cb475",
   "outputs": [],
   "execution_count": 67
  },
  {
   "metadata": {},
   "cell_type": "code",
   "outputs": [],
   "execution_count": null,
   "source": "",
   "id": "6763ba9dc0ea6ce4"
  }
 ],
 "metadata": {
  "kernelspec": {
   "display_name": "Python 3",
   "language": "python",
   "name": "python3"
  },
  "language_info": {
   "codemirror_mode": {
    "name": "ipython",
    "version": 2
   },
   "file_extension": ".py",
   "mimetype": "text/x-python",
   "name": "python",
   "nbconvert_exporter": "python",
   "pygments_lexer": "ipython2",
   "version": "2.7.6"
  }
 },
 "nbformat": 4,
 "nbformat_minor": 5
}
