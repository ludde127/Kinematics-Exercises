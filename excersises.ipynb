{
 "cells": [
  {
   "metadata": {},
   "cell_type": "markdown",
   "source": [
    "Kinematics exercise link: https://canvas.education.lu.se/courses/37285/assignments/257751\n",
    "\n"
   ],
   "id": "1a17136addccc6fe"
  },
  {
   "metadata": {
    "ExecuteTime": {
     "end_time": "2025-10-17T08:38:18.301784Z",
     "start_time": "2025-10-17T08:38:18.207644Z"
    }
   },
   "cell_type": "code",
   "source": "import numpy as np",
   "id": "7a9ada0faf9b9f5f",
   "outputs": [],
   "execution_count": 2
  },
  {
   "metadata": {
    "ExecuteTime": {
     "end_time": "2025-10-17T08:45:47.669775Z",
     "start_time": "2025-10-17T08:45:47.665445Z"
    }
   },
   "cell_type": "code",
   "source": [
    "o_0 = np.eye(3)\n",
    "\n",
    "# When showing results split them into the column vectors as e1, e2, e3 were given\n",
    "\n",
    "# Rotate around y by alfa\n",
    "a = 10\n",
    "\n",
    "rotation = np.array([\n",
    "    [np.cos(a), 0, np.sin(a)],\n",
    "    [0, 1, 0],\n",
    "    [-np.sin(a), 0, np.cos(a)]\n",
    "]\n",
    ")\n",
    "\n",
    "print(o_0)\n",
    "print(rotation)\n",
    "print(o_0 @ rotation)"
   ],
   "id": "593b699c700cf689",
   "outputs": [
    {
     "name": "stdout",
     "output_type": "stream",
     "text": [
      "[[1. 0. 0.]\n",
      " [0. 1. 0.]\n",
      " [0. 0. 1.]]\n",
      "[[-0.83907153  0.         -0.54402111]\n",
      " [ 0.          1.          0.        ]\n",
      " [ 0.54402111  0.         -0.83907153]]\n",
      "[[-0.83907153  0.         -0.54402111]\n",
      " [ 0.          1.          0.        ]\n",
      " [ 0.54402111  0.         -0.83907153]]\n"
     ]
    }
   ],
   "execution_count": 7
  },
  {
   "metadata": {
    "ExecuteTime": {
     "end_time": "2025-10-17T08:47:07.354221Z",
     "start_time": "2025-10-17T08:47:07.350267Z"
    }
   },
   "cell_type": "code",
   "source": "print(rotation)  # 1b",
   "id": "8294713f84123e9",
   "outputs": [
    {
     "name": "stdout",
     "output_type": "stream",
     "text": [
      "[[-0.83907153  0.         -0.54402111]\n",
      " [ 0.          1.          0.        ]\n",
      " [ 0.54402111  0.         -0.83907153]]\n"
     ]
    }
   ],
   "execution_count": 8
  },
  {
   "metadata": {
    "ExecuteTime": {
     "end_time": "2025-10-17T08:48:15.402627Z",
     "start_time": "2025-10-17T08:48:15.397608Z"
    }
   },
   "cell_type": "code",
   "source": [
    "# c:\n",
    "\n",
    "a = np.pi/4\n",
    "\n",
    "rotation = np.array([\n",
    "    [np.cos(a), 0, np.sin(a)],\n",
    "    [0, 1, 0],\n",
    "    [-np.sin(a), 0, np.cos(a)]\n",
    "]\n",
    ")\n",
    "\n",
    "#print(o_0)\n",
    "#print(rotation)\n",
    "print(o_0 @ rotation)\n",
    "# alfa pi/4 is 45 degrees, so each transformed axis should have size 1/sqrt(2) which we can see is true.\n"
   ],
   "id": "5398bcfdb9809faa",
   "outputs": [
    {
     "name": "stdout",
     "output_type": "stream",
     "text": [
      "[[ 0.70710678  0.          0.70710678]\n",
      " [ 0.          1.          0.        ]\n",
      " [-0.70710678  0.          0.70710678]]\n"
     ]
    }
   ],
   "execution_count": 10
  },
  {
   "metadata": {
    "ExecuteTime": {
     "end_time": "2025-10-17T08:59:41.170145Z",
     "start_time": "2025-10-17T08:59:41.166003Z"
    }
   },
   "cell_type": "code",
   "source": [
    "# d: This can not be done using a 4x4 matrix, we can instead use a 3x4 matrix which is often called a transformation matrix.\n",
    "\n",
    "# The matrix would look like this:\n",
    "\n",
    "t = np.array([\n",
    "    [1, 0, 0, 0],\n",
    "    [0, 1, 0, 1],\n",
    "    [0, 0, 1, 0],\n",
    "    [0, 0, 0, 1]]\n",
    ")\n",
    "print(t)"
   ],
   "id": "e3a36f8e5e284194",
   "outputs": [
    {
     "name": "stdout",
     "output_type": "stream",
     "text": [
      "[[1 0 0 0]\n",
      " [0 1 0 1]\n",
      " [0 0 1 0]\n",
      " [0 0 0 1]]\n"
     ]
    }
   ],
   "execution_count": 13
  },
  {
   "metadata": {
    "ExecuteTime": {
     "end_time": "2025-10-17T09:00:47.200804Z",
     "start_time": "2025-10-17T09:00:47.198882Z"
    }
   },
   "cell_type": "code",
   "source": "",
   "id": "595fa26f51a3718d",
   "outputs": [],
   "execution_count": null
  }
 ],
 "metadata": {
  "kernelspec": {
   "display_name": "Python 3",
   "language": "python",
   "name": "python3"
  },
  "language_info": {
   "codemirror_mode": {
    "name": "ipython",
    "version": 2
   },
   "file_extension": ".py",
   "mimetype": "text/x-python",
   "name": "python",
   "nbconvert_exporter": "python",
   "pygments_lexer": "ipython2",
   "version": "2.7.6"
  }
 },
 "nbformat": 4,
 "nbformat_minor": 5
}
