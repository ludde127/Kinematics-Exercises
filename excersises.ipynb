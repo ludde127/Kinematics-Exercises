{
 "cells": [
  {
   "metadata": {},
   "cell_type": "markdown",
   "source": [
    "Kinematics exercise link: https://canvas.education.lu.se/courses/37285/assignments/257751\n",
    "\n"
   ],
   "id": "1a17136addccc6fe"
  },
  {
   "metadata": {
    "ExecuteTime": {
     "end_time": "2025-10-17T20:18:47.385197Z",
     "start_time": "2025-10-17T20:18:47.382192Z"
    }
   },
   "cell_type": "code",
   "source": "import numpy as np",
   "id": "7a9ada0faf9b9f5f",
   "outputs": [],
   "execution_count": 233
  },
  {
   "metadata": {
    "ExecuteTime": {
     "end_time": "2025-10-17T20:18:47.414707Z",
     "start_time": "2025-10-17T20:18:47.410029Z"
    }
   },
   "cell_type": "code",
   "source": [
    "o_0 = np.eye(3)\n",
    "\n",
    "# When showing results split them into the column vectors as e1, e2, e3 were given\n",
    "\n",
    "# Rotate around y by alfa\n",
    "a = 10\n",
    "\n",
    "rotation = np.array([\n",
    "    [np.cos(a), 0, np.sin(a)],\n",
    "    [0, 1, 0],\n",
    "    [-np.sin(a), 0, np.cos(a)]\n",
    "]\n",
    ")\n",
    "\n",
    "print(o_0)\n",
    "print(rotation)\n",
    "print(o_0 @ rotation)"
   ],
   "id": "593b699c700cf689",
   "outputs": [
    {
     "name": "stdout",
     "output_type": "stream",
     "text": [
      "[[1. 0. 0.]\n",
      " [0. 1. 0.]\n",
      " [0. 0. 1.]]\n",
      "[[-0.83907153  0.         -0.54402111]\n",
      " [ 0.          1.          0.        ]\n",
      " [ 0.54402111  0.         -0.83907153]]\n",
      "[[-0.83907153  0.         -0.54402111]\n",
      " [ 0.          1.          0.        ]\n",
      " [ 0.54402111  0.         -0.83907153]]\n"
     ]
    }
   ],
   "execution_count": 234
  },
  {
   "metadata": {
    "ExecuteTime": {
     "end_time": "2025-10-17T20:18:47.421068Z",
     "start_time": "2025-10-17T20:18:47.418223Z"
    }
   },
   "cell_type": "code",
   "source": "print(rotation)  # 1b",
   "id": "8294713f84123e9",
   "outputs": [
    {
     "name": "stdout",
     "output_type": "stream",
     "text": [
      "[[-0.83907153  0.         -0.54402111]\n",
      " [ 0.          1.          0.        ]\n",
      " [ 0.54402111  0.         -0.83907153]]\n"
     ]
    }
   ],
   "execution_count": 235
  },
  {
   "metadata": {
    "ExecuteTime": {
     "end_time": "2025-10-17T20:18:47.445011Z",
     "start_time": "2025-10-17T20:18:47.441015Z"
    }
   },
   "cell_type": "code",
   "source": [
    "# c:\n",
    "\n",
    "a = np.pi/4\n",
    "\n",
    "rotation = np.array([\n",
    "    [np.cos(a), 0, np.sin(a)],\n",
    "    [0, 1, 0],\n",
    "    [-np.sin(a), 0, np.cos(a)]\n",
    "]\n",
    ")\n",
    "\n",
    "#print(o_0)\n",
    "#print(rotation)\n",
    "print(o_0 @ rotation)\n",
    "# alfa pi/4 is 45 degrees, so each transformed axis should have size 1/sqrt(2) which we can see is true.\n"
   ],
   "id": "5398bcfdb9809faa",
   "outputs": [
    {
     "name": "stdout",
     "output_type": "stream",
     "text": [
      "[[ 0.70710678  0.          0.70710678]\n",
      " [ 0.          1.          0.        ]\n",
      " [-0.70710678  0.          0.70710678]]\n"
     ]
    }
   ],
   "execution_count": 236
  },
  {
   "metadata": {
    "ExecuteTime": {
     "end_time": "2025-10-17T20:18:47.470126Z",
     "start_time": "2025-10-17T20:18:47.465633Z"
    }
   },
   "cell_type": "code",
   "source": [
    "# d: This can not be done using a 4x4 matrix, we can instead use a 3x4 matrix which is often called a transformation matrix.\n",
    "\n",
    "# The matrix would look like this:\n",
    "\n",
    "t = np.array([\n",
    "    [1, 0, 0, 0],\n",
    "    [0, 1, 0, 1],\n",
    "    [0, 0, 1, 0],\n",
    "    [0, 0, 0, 1]]\n",
    ")\n",
    "print(t)"
   ],
   "id": "e3a36f8e5e284194",
   "outputs": [
    {
     "name": "stdout",
     "output_type": "stream",
     "text": [
      "[[1 0 0 0]\n",
      " [0 1 0 1]\n",
      " [0 0 1 0]\n",
      " [0 0 0 1]]\n"
     ]
    }
   ],
   "execution_count": 237
  },
  {
   "metadata": {
    "ExecuteTime": {
     "end_time": "2025-10-17T20:18:47.495010Z",
     "start_time": "2025-10-17T20:18:47.491397Z"
    }
   },
   "cell_type": "code",
   "source": [
    "# 2a: find the DH parameters for the coordinate frames\n",
    "\n",
    "# d offset along previous z to the common normal\n",
    "# θ angle about previous z from old to new x\n",
    "# r length of the common normal\n",
    "# a (alfa) angle about common normal from old z to new z\n",
    "\n",
    "# z0 frame, x_0 positive, y_0 negative\n",
    "# z1 frame, x_1 positive, y_1 negative, l1 y space away from z0\n",
    "# z2 frame, x_2 positive, y_2 positive, l2 y space away from z0\n",
    "\n",
    "# Using x as common normal, according to the image theta_1 and theta_2 are both 0.\n",
    "#       d   a       r   theta\n",
    "# z1:   0   0       l1  theta_1\n",
    "# z2:   0   -pi     l2  theta_2"
   ],
   "id": "595fa26f51a3718d",
   "outputs": [],
   "execution_count": 238
  },
  {
   "metadata": {
    "ExecuteTime": {
     "end_time": "2025-10-17T20:18:47.522208Z",
     "start_time": "2025-10-17T20:18:47.516347Z"
    }
   },
   "cell_type": "code",
   "source": [
    "# 2b:\n",
    "# T_x_y = > Z_(x-1) @ X_n\n",
    "l1 = 1\n",
    "l2 = 1\n",
    "trans0 = np.array(\n",
    "    [\n",
    "        [1, 0, 0, 0],\n",
    "        [0, 1, 0, 0],\n",
    "        [0, 0, 1, 0],\n",
    "        [0, 0, 0, 1]\n",
    "    ]\n",
    ")\n",
    "\n",
    "trans1 = np.array(\n",
    "    [\n",
    "        [1, 0, 0, l1],\n",
    "        [0, 1, 0, 0],\n",
    "        [0, 0, 1, 0],\n",
    "        [0, 0, 0, 1]\n",
    "    ]\n",
    ")\n",
    "\n",
    "rot_1_0 = np.array(\n",
    "    [\n",
    "        [1, 0, 0, 0],\n",
    "        [0, 1, 0, 0],\n",
    "        [0, 0, 1, 0],\n",
    "        [0, 0, 0, 1]\n",
    "    ]\n",
    ")\n",
    "\n",
    "T_0_to_1 = trans1 @ rot_1_0\n",
    "\n",
    "trans2 = np.array(\n",
    "    [\n",
    "        [1, 0, 0, l2],\n",
    "        [0, 1, 0, 0],\n",
    "        [0, 0, 1, 0],\n",
    "        [0, 0, 0, 1]\n",
    "    ]\n",
    ")\n",
    "\n",
    "a_n = -np.pi\n",
    "# Rotating -pi around x\n",
    "rot_2_1 = np.array(\n",
    "    [\n",
    "        [1, 0, 0, 0],\n",
    "        [0, np.cos(a_n), -np.sin(a_n), 0],\n",
    "        [0, np.sin(a_n), np.cos(a_n), 0],\n",
    "        [0, 0, 0, 1]\n",
    "    ]\n",
    ")\n",
    "T_1_to_2 = trans2 @ rot_2_1\n",
    "T_0_to_2 = T_0_to_1 @ T_1_to_2\n",
    "\n",
    "print(T_0_to_2)"
   ],
   "id": "37355041bc64eaef",
   "outputs": [
    {
     "name": "stdout",
     "output_type": "stream",
     "text": [
      "[[ 1.0000000e+00  0.0000000e+00  0.0000000e+00  2.0000000e+00]\n",
      " [ 0.0000000e+00 -1.0000000e+00  1.2246468e-16  0.0000000e+00]\n",
      " [ 0.0000000e+00 -1.2246468e-16 -1.0000000e+00  0.0000000e+00]\n",
      " [ 0.0000000e+00  0.0000000e+00  0.0000000e+00  1.0000000e+00]]\n"
     ]
    }
   ],
   "execution_count": 239
  },
  {
   "metadata": {
    "ExecuteTime": {
     "end_time": "2025-10-17T20:18:47.546498Z",
     "start_time": "2025-10-17T20:18:47.542408Z"
    }
   },
   "cell_type": "code",
   "source": [
    "# We now must get T_2_to_1, it is logical that T_2_to_1 should be the inverse of T_1_to_2\n",
    "# TODO: Motivate this more\n",
    "T_2_to_1 = np.linalg.inv(T_1_to_2)\n",
    "print(T_2_to_1)  # This can be seen to be correct as the dx now is correct and the rotation matrix is also"
   ],
   "id": "83a6f12c9209f533",
   "outputs": [
    {
     "name": "stdout",
     "output_type": "stream",
     "text": [
      "[[ 1.0000000e+00  0.0000000e+00  0.0000000e+00 -1.0000000e+00]\n",
      " [-0.0000000e+00 -1.0000000e+00 -1.2246468e-16 -0.0000000e+00]\n",
      " [-0.0000000e+00  1.2246468e-16 -1.0000000e+00 -0.0000000e+00]\n",
      " [ 0.0000000e+00  0.0000000e+00  0.0000000e+00  1.0000000e+00]]\n"
     ]
    }
   ],
   "execution_count": 240
  },
  {
   "metadata": {
    "ExecuteTime": {
     "end_time": "2025-10-17T20:18:47.569329Z",
     "start_time": "2025-10-17T20:18:47.566478Z"
    }
   },
   "cell_type": "code",
   "source": [
    "# 2c\n",
    "\n",
    "# The difference between a homogeneous transformation matrix and a rotation matrix is that a rotation matrix only rotates the frame but does not displace it linearly which a transformation matrix can do."
   ],
   "id": "8826d6c56d8434d6",
   "outputs": [],
   "execution_count": 241
  },
  {
   "metadata": {
    "ExecuteTime": {
     "end_time": "2025-10-17T20:18:48.143358Z",
     "start_time": "2025-10-17T20:18:47.590247Z"
    }
   },
   "cell_type": "code",
   "source": [
    "from sympy import Matrix, Symbol, cos, sin, print_latex, pi\n",
    "# 3\n",
    "\n",
    "# 3a:\n",
    "\n",
    "l = Symbol(\"l\") # All 3 links have this length\n",
    "# We start with finding all the transform matrices\n",
    "\n",
    "T1 = Matrix([\n",
    "    [1, 0, l ],\n",
    "    [0, 1, 0 ],\n",
    "    [0, 0, 1 ],\n",
    "])\n",
    "T3 = T2 = T1  # All have the same link lengths\n",
    "\n",
    "# I will see the first joint as rotating around z and the rest around x\n",
    "theta1, theta2, theta3 = Symbol(\"t_1\"), Symbol(\"t_2\"), Symbol(\"t_3\")\n",
    "rot1 = Matrix([\n",
    "    [cos(theta1), -sin(theta1), 0],\n",
    "    [sin(theta1), cos(theta1), 0],\n",
    "    [0, 0, 1],\n",
    "])\n",
    "\n",
    "rot2 = Matrix([\n",
    "    [cos(theta2), -sin(theta2), 0],\n",
    "    [sin(theta2), cos(theta2), 0],\n",
    "    [0, 0, 1],\n",
    "])\n",
    "\n",
    "rot3 = Matrix([\n",
    "    [cos(theta3), -sin(theta3), 0],\n",
    "    [sin(theta3), cos(theta3), 0],\n",
    "    [0, 0, 1],\n",
    "])\n",
    "T3_0_to_2 = Matrix((((Matrix(np.eye(3)) @ rot1 @ T1) @ (rot2 @ T2)) @ (rot3 @ T3)))\n",
    "#print_latex(T3_0_to_2)\n",
    "T3_0_to_2.simplify()  # The function from angle to position for x is given from column 3 row 1 in the matrix, and for y in col 3 row 2.\n",
    "theta_to_x = T3_0_to_2[2]\n",
    "theta_to_y = T3_0_to_2[5]\n",
    "T3_0_to_2"
   ],
   "id": "7eaaa42201b0d7bf",
   "outputs": [
    {
     "data": {
      "text/plain": [
       "Matrix([\n",
       "[1.0*cos(t_1 + t_2 + t_3), -1.0*sin(t_1 + t_2 + t_3), 1.0*l*(cos(t_1) + cos(t_1 + t_2) + cos(t_1 + t_2 + t_3))],\n",
       "[1.0*sin(t_1 + t_2 + t_3),  1.0*cos(t_1 + t_2 + t_3), 1.0*l*(sin(t_1) + sin(t_1 + t_2) + sin(t_1 + t_2 + t_3))],\n",
       "[                       0,                         0,                                                      1.0]])"
      ],
      "text/latex": "$\\displaystyle \\left[\\begin{matrix}1.0 \\cos{\\left(t_{1} + t_{2} + t_{3} \\right)} & - 1.0 \\sin{\\left(t_{1} + t_{2} + t_{3} \\right)} & 1.0 l \\left(\\cos{\\left(t_{1} \\right)} + \\cos{\\left(t_{1} + t_{2} \\right)} + \\cos{\\left(t_{1} + t_{2} + t_{3} \\right)}\\right)\\\\1.0 \\sin{\\left(t_{1} + t_{2} + t_{3} \\right)} & 1.0 \\cos{\\left(t_{1} + t_{2} + t_{3} \\right)} & 1.0 l \\left(\\sin{\\left(t_{1} \\right)} + \\sin{\\left(t_{1} + t_{2} \\right)} + \\sin{\\left(t_{1} + t_{2} + t_{3} \\right)}\\right)\\\\0 & 0 & 1.0\\end{matrix}\\right]$"
     },
     "execution_count": 242,
     "metadata": {},
     "output_type": "execute_result"
    }
   ],
   "execution_count": 242
  },
  {
   "metadata": {
    "ExecuteTime": {
     "end_time": "2025-10-17T20:18:48.172012Z",
     "start_time": "2025-10-17T20:18:48.166501Z"
    }
   },
   "cell_type": "code",
   "source": [
    "# 3b.\n",
    "\"\"\"\n",
    "To check your solution, compute the forward kinematics for the following joint\n",
    "configurations (θ1,θ2,θ3): (0, 0, 0),(0, π/4, π/4). Are the resulting homogeneous\n",
    "transformation matrices in agreement with what you would expect? Draw the\n",
    "robot configuration in the respective case and mark the end-effector / tool frame.\n",
    "\"\"\"\n",
    "T3_0_to_2.subs({theta1: 0, theta2: 0, theta3: 0, l: 2})"
   ],
   "id": "7d2898eb68dd4308",
   "outputs": [
    {
     "data": {
      "text/plain": [
       "Matrix([\n",
       "[1.0,   0, 6.0],\n",
       "[  0, 1.0,   0],\n",
       "[  0,   0, 1.0]])"
      ],
      "text/latex": "$\\displaystyle \\left[\\begin{matrix}1.0 & 0 & 6.0\\\\0 & 1.0 & 0\\\\0 & 0 & 1.0\\end{matrix}\\right]$"
     },
     "execution_count": 243,
     "metadata": {},
     "output_type": "execute_result"
    }
   ],
   "execution_count": 243
  },
  {
   "metadata": {
    "ExecuteTime": {
     "end_time": "2025-10-17T20:18:48.199813Z",
     "start_time": "2025-10-17T20:18:48.192989Z"
    }
   },
   "cell_type": "code",
   "source": "T3_0_to_2.subs({theta1: 0, theta2: pi/4, theta3: pi/4, l: 2})",
   "id": "70de5bcf3be0a697",
   "outputs": [
    {
     "data": {
      "text/plain": [
       "Matrix([\n",
       "[  0, -1.0, 1.0*sqrt(2) + 2.0],\n",
       "[1.0,    0, 1.0*sqrt(2) + 2.0],\n",
       "[  0,    0,               1.0]])"
      ],
      "text/latex": "$\\displaystyle \\left[\\begin{matrix}0 & -1.0 & 1.0 \\sqrt{2} + 2.0\\\\1.0 & 0 & 1.0 \\sqrt{2} + 2.0\\\\0 & 0 & 1.0\\end{matrix}\\right]$"
     },
     "execution_count": 244,
     "metadata": {},
     "output_type": "execute_result"
    }
   ],
   "execution_count": 244
  },
  {
   "metadata": {
    "ExecuteTime": {
     "end_time": "2025-10-17T20:18:48.237507Z",
     "start_time": "2025-10-17T20:18:48.233972Z"
    }
   },
   "cell_type": "code",
   "source": [
    "# 3c: TODO verify if true\n",
    "# As we have three joints in a 2D situation all reachable points have an infinite amount of possible joint value combinations.\n",
    "\n",
    "# It is also possible to find a close form solution for the inverse kinematics problem here, it is (somewhat) simply required to invert the theta to x and theta to y functions."
   ],
   "id": "1e988eff162cb475",
   "outputs": [],
   "execution_count": 245
  },
  {
   "metadata": {
    "ExecuteTime": {
     "end_time": "2025-10-17T20:18:48.265518Z",
     "start_time": "2025-10-17T20:18:48.260543Z"
    }
   },
   "cell_type": "code",
   "source": [
    "# 4a)\n",
    "# The equations for forward and inverse kinematics for two-link planar from the slides.\n",
    "# Forward\n",
    "theta1 = Symbol(\"theta1\")\n",
    "a_1 = Symbol(\"a_1\")\n",
    "a_2 = Symbol(\"a_2\")\n",
    "theta2 = Symbol(\"theta2\")\n",
    "x4 = a_1 * cos(theta1) + a_2 * cos(theta1 + theta2)\n",
    "x4"
   ],
   "id": "6763ba9dc0ea6ce4",
   "outputs": [
    {
     "data": {
      "text/plain": [
       "a_1*cos(theta1) + a_2*cos(theta1 + theta2)"
      ],
      "text/latex": "$\\displaystyle a_{1} \\cos{\\left(\\theta_{1} \\right)} + a_{2} \\cos{\\left(\\theta_{1} + \\theta_{2} \\right)}$"
     },
     "execution_count": 246,
     "metadata": {},
     "output_type": "execute_result"
    }
   ],
   "execution_count": 246
  },
  {
   "metadata": {
    "ExecuteTime": {
     "end_time": "2025-10-17T20:18:48.295398Z",
     "start_time": "2025-10-17T20:18:48.290097Z"
    }
   },
   "cell_type": "code",
   "source": [
    "y4 = a_1 * sin(theta1) + a_2 * sin(theta1 + theta2)\n",
    "y4"
   ],
   "id": "479a91d046bd6bd9",
   "outputs": [
    {
     "data": {
      "text/plain": [
       "a_1*sin(theta1) + a_2*sin(theta1 + theta2)"
      ],
      "text/latex": "$\\displaystyle a_{1} \\sin{\\left(\\theta_{1} \\right)} + a_{2} \\sin{\\left(\\theta_{1} + \\theta_{2} \\right)}$"
     },
     "execution_count": 247,
     "metadata": {},
     "output_type": "execute_result"
    }
   ],
   "execution_count": 247
  },
  {
   "metadata": {
    "ExecuteTime": {
     "end_time": "2025-10-17T20:21:02.267254Z",
     "start_time": "2025-10-17T20:21:02.259906Z"
    }
   },
   "cell_type": "code",
   "source": [
    "# Inverse kinematics\n",
    "\n",
    "from sympy import symbols, acos, atan2, simplify, lambdify, atan, sqrt\n",
    "\n",
    "x, y, a1, a2 = symbols('x y a1 a2', real=True)\n",
    "r2 = x**2 + y**2\n",
    "\n",
    "#cos_theta2 = ((x**2 + y**2) - a1 ** 2 - a2 ** 2) / (2 * a1 * a2)\n",
    "\n",
    "# Using the version which is said to be more numerically stable\n",
    "links = {a1: 2, a2: 2}\n",
    "start_values = {**links, x: 0, y: 4}\n",
    "theta2_solution = acos(\n",
    "    (\n",
    "        x**2 + y**2 - a1**2 -a2**2\n",
    "    ) /\n",
    "    (2 * a1 * a2)\n",
    ")\n",
    "\n",
    "fi = atan2(y, x)\n",
    "\n",
    "theta_solution = Symbol(\"theta2\")\n",
    "gamma = atan2(a2*sin(theta_solution), a1 + a2*cos(theta_solution))\n",
    "\n",
    "theta1_solution = fi - gamma\n",
    "theta1_solution"
   ],
   "id": "fdb53d75b2ba233d",
   "outputs": [
    {
     "data": {
      "text/plain": [
       "atan2(y, x) - atan2(a2*sin(theta2), a1 + a2*cos(theta2))"
      ],
      "text/latex": "$\\displaystyle \\operatorname{atan}_{2}{\\left(y,x \\right)} - \\operatorname{atan}_{2}{\\left(a_{2} \\sin{\\left(\\theta_{2} \\right)},a_{1} + a_{2} \\cos{\\left(\\theta_{2} \\right)} \\right)}$"
     },
     "execution_count": 254,
     "metadata": {},
     "output_type": "execute_result"
    }
   ],
   "execution_count": 254
  },
  {
   "metadata": {
    "ExecuteTime": {
     "end_time": "2025-10-17T20:21:06.793823Z",
     "start_time": "2025-10-17T20:21:06.788975Z"
    }
   },
   "cell_type": "code",
   "source": [
    "# 4b) The points; S: (0, 4), A: (2, 3), B: (1, 1), C(3, 2), D(3, 1)\n",
    "\n",
    "points = {\"S\": (0, 4), \"A\": (2, 3), \"B\": (1, 1), \"C\": (3, 2), \"D\": (3, 1)}\n",
    "\n",
    "# Calculate joint angles for each of the points above\n",
    "res = theta2_solution.subs(start_values)\n",
    "res"
   ],
   "id": "d5ce57964a0ba4d0",
   "outputs": [
    {
     "data": {
      "text/plain": [
       "0"
      ],
      "text/latex": "$\\displaystyle 0$"
     },
     "execution_count": 255,
     "metadata": {},
     "output_type": "execute_result"
    }
   ],
   "execution_count": 255
  },
  {
   "metadata": {
    "ExecuteTime": {
     "end_time": "2025-10-17T20:21:21.422690Z",
     "start_time": "2025-10-17T20:21:21.418343Z"
    }
   },
   "cell_type": "code",
   "source": "theta1_solution.subs({**start_values, theta_solution: res})",
   "id": "ab7ca835e25fc34",
   "outputs": [
    {
     "data": {
      "text/plain": [
       "pi/2"
      ],
      "text/latex": "$\\displaystyle \\frac{\\pi}{2}$"
     },
     "execution_count": 263,
     "metadata": {},
     "output_type": "execute_result"
    }
   ],
   "execution_count": 263
  },
  {
   "metadata": {
    "ExecuteTime": {
     "end_time": "2025-10-17T20:24:18.115927Z",
     "start_time": "2025-10-17T20:24:18.110357Z"
    }
   },
   "cell_type": "code",
   "source": [
    "theta1_solution.subs({**start_values, theta1_solution: -res})\n",
    "\n",
    "def solutions(_x, _y):\n",
    "    _vals = {**links, x: _x, y: _y}\n",
    "    _theta2 = theta2_solution.subs(_vals).evalf()\n",
    "    _theta1_pos = theta1_solution.subs({**_vals, theta_solution: _theta2}).evalf()\n",
    "    _theta1_neg = theta1_solution.subs({**_vals, theta_solution: -_theta2}).evalf()\n",
    "\n",
    "    return [(_theta1_pos, _theta2), (_theta1_neg, _theta2)]\n",
    "\n",
    "print(solutions(0, 4))"
   ],
   "id": "76aa537369e954f9",
   "outputs": [
    {
     "name": "stdout",
     "output_type": "stream",
     "text": [
      "[(1.57079632679490, 0), (1.57079632679490, 0)]\n"
     ]
    }
   ],
   "execution_count": 272
  },
  {
   "metadata": {
    "ExecuteTime": {
     "end_time": "2025-10-17T20:24:20.189784Z",
     "start_time": "2025-10-17T20:24:20.176710Z"
    }
   },
   "cell_type": "code",
   "source": [
    "for name, coords in points.items():\n",
    "    print(f\"{name} = {coords}, joint values {solutions(*coords)}\")"
   ],
   "id": "42e3ce5a0b33bc70",
   "outputs": [
    {
     "name": "stdout",
     "output_type": "stream",
     "text": [
      "S = (0, 4), joint values [(1.57079632679490, 0), (1.57079632679490, 0)]\n",
      "A = (2, 3), joint values [(0.534961326318397, 0.895664793857865), (1.43062612017626, 0.895664793857865)]\n",
      "B = (1, 1), joint values [(-0.424031039490740, 2.41885840577638), (1.99482736628564, 2.41885840577638)]\n",
      "C = (3, 2), joint values [(0.140170206618635, 0.895664793857865), (1.03583500047650, 0.895664793857865)]\n",
      "D = (3, 1), joint values [(-0.337307481429767, 1.31811607165282), (0.980808590223051, 1.31811607165282)]\n"
     ]
    }
   ],
   "execution_count": 273
  },
  {
   "metadata": {
    "ExecuteTime": {
     "end_time": "2025-10-17T20:30:12.974467Z",
     "start_time": "2025-10-17T20:30:12.967008Z"
    }
   },
   "cell_type": "code",
   "source": [
    "# Also print in degrees:\n",
    "\n",
    "def rad2deg(rad):\n",
    "    return (rad * 180 / pi).evalf()\n",
    "\n",
    "for name, coords in points.items():\n",
    "    solution_in_degrees = [(rad2deg(a), rad2deg(b)) for a, b in solutions(*coords)]\n",
    "    print(f\"{name} = {coords}, joint values {solution_in_degrees}\")"
   ],
   "id": "db020fc597872676",
   "outputs": [
    {
     "name": "stdout",
     "output_type": "stream",
     "text": [
      "S = (0, 4), joint values [(90.0000000000000, 0), (90.0000000000000, 0)]\n",
      "A = (2, 3), joint values [(30.6510262007649, 51.3178125465106), (81.9688387472755, 51.3178125465106)]\n",
      "B = (1, 1), joint values [(-24.2951889453646, 138.590377890729), (114.295188945365, 138.590377890729)]\n",
      "C = (3, 2), joint values [(8.03116125272451, 51.3178125465106), (59.3489737992351, 51.3178125465106)]\n",
      "D = (3, 1), joint values [(-19.3262950841130, 75.5224878140701), (56.1961927299570, 75.5224878140701)]\n"
     ]
    }
   ],
   "execution_count": 279
  }
 ],
 "metadata": {
  "kernelspec": {
   "display_name": "Python 3",
   "language": "python",
   "name": "python3"
  },
  "language_info": {
   "codemirror_mode": {
    "name": "ipython",
    "version": 2
   },
   "file_extension": ".py",
   "mimetype": "text/x-python",
   "name": "python",
   "nbconvert_exporter": "python",
   "pygments_lexer": "ipython2",
   "version": "2.7.6"
  }
 },
 "nbformat": 4,
 "nbformat_minor": 5
}
